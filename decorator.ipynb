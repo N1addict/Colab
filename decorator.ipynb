{
  "nbformat": 4,
  "nbformat_minor": 0,
  "metadata": {
    "colab": {
      "name": "decorator.ipynb",
      "provenance": [],
      "authorship_tag": "ABX9TyPgIJphZAbrLcTJDB1uvn+Y",
      "include_colab_link": true
    },
    "kernelspec": {
      "name": "python3",
      "display_name": "Python 3"
    },
    "language_info": {
      "name": "python"
    }
  },
  "cells": [
    {
      "cell_type": "markdown",
      "metadata": {
        "id": "view-in-github",
        "colab_type": "text"
      },
      "source": [
        "<a href=\"https://colab.research.google.com/github/N1addict/Colab/blob/main/decorator.ipynb\" target=\"_parent\"><img src=\"https://colab.research.google.com/assets/colab-badge.svg\" alt=\"Open In Colab\"/></a>"
      ]
    },
    {
      "cell_type": "code",
      "execution_count": null,
      "metadata": {
        "id": "DtJhCbTBwueU"
      },
      "outputs": [],
      "source": [
        ""
      ]
    },
    {
      "cell_type": "code",
      "source": [
        "who_ls"
      ],
      "metadata": {
        "id": "spg6YAg8FmaO",
        "colab": {
          "base_uri": "https://localhost:8080/"
        },
        "outputId": "af4a056f-1e0b-4b9d-b240-18ad5ae66a84"
      },
      "execution_count": null,
      "outputs": [
        {
          "output_type": "execute_result",
          "data": {
            "text/plain": [
              "['VariableInspectorWindow',\n",
              " 'a',\n",
              " 'b',\n",
              " 'deco',\n",
              " 'display',\n",
              " 'f',\n",
              " 'inspector',\n",
              " 'mylink',\n",
              " 'person',\n",
              " 'plus',\n",
              " 'w']"
            ]
          },
          "metadata": {},
          "execution_count": 53
        }
      ]
    },
    {
      "cell_type": "code",
      "source": [
        "who"
      ],
      "metadata": {
        "colab": {
          "base_uri": "https://localhost:8080/"
        },
        "id": "7ZLAqMz6b8bn",
        "outputId": "f5de6ade-b0ab-4947-da7b-908eade3b16d"
      },
      "execution_count": null,
      "outputs": [
        {
          "output_type": "stream",
          "name": "stdout",
          "text": [
            "VariableInspectorWindow\t a\t b\t deco\t display\t f\t inspector\t mylink\t person\t \n",
            "plus\t w\t \n"
          ]
        }
      ]
    },
    {
      "cell_type": "code",
      "source": [
        "widgets.IntSlider()"
      ],
      "metadata": {
        "colab": {
          "base_uri": "https://localhost:8080/",
          "height": 49,
          "referenced_widgets": [
            "780f64363703416981572706c5b1a615",
            "f543c98ee7de48708b61ce5c23749ec4",
            "9f06d41e74094a2eb8d1930a7ee8fcba"
          ]
        },
        "id": "xdvm4kq7b_kr",
        "outputId": "d3653373-c4ae-449f-975b-94131790cc96"
      },
      "execution_count": null,
      "outputs": [
        {
          "output_type": "display_data",
          "data": {
            "text/plain": [
              "IntSlider(value=0)"
            ],
            "application/vnd.jupyter.widget-view+json": {
              "version_major": 2,
              "version_minor": 0,
              "model_id": "780f64363703416981572706c5b1a615"
            }
          },
          "metadata": {}
        }
      ]
    },
    {
      "cell_type": "code",
      "source": [
        "from IPython.display import display\n",
        "w = widgets.IntSlider()\n",
        "display(w)"
      ],
      "metadata": {
        "colab": {
          "base_uri": "https://localhost:8080/",
          "height": 49,
          "referenced_widgets": [
            "859ded0614184c0684966af261a21208",
            "5764d00773904542839a2e767c44c9be",
            "4c57119fcd5e4831aa514c833c3d3826"
          ]
        },
        "id": "bTAX0V69glNA",
        "outputId": "b7ad990a-ec5e-4668-e21c-e4f4763fe020"
      },
      "execution_count": null,
      "outputs": [
        {
          "output_type": "display_data",
          "data": {
            "text/plain": [
              "IntSlider(value=0)"
            ],
            "application/vnd.jupyter.widget-view+json": {
              "version_major": 2,
              "version_minor": 0,
              "model_id": "859ded0614184c0684966af261a21208"
            }
          },
          "metadata": {}
        }
      ]
    },
    {
      "cell_type": "code",
      "source": [
        "display(w)"
      ],
      "metadata": {
        "colab": {
          "base_uri": "https://localhost:8080/",
          "height": 49,
          "referenced_widgets": [
            "859ded0614184c0684966af261a21208",
            "5764d00773904542839a2e767c44c9be",
            "4c57119fcd5e4831aa514c833c3d3826"
          ]
        },
        "id": "T-ouoG0Eg4HW",
        "outputId": "75ec78ef-08e8-4646-951c-3038641fdf0d"
      },
      "execution_count": null,
      "outputs": [
        {
          "output_type": "display_data",
          "data": {
            "text/plain": [
              "IntSlider(value=0)"
            ],
            "application/vnd.jupyter.widget-view+json": {
              "version_major": 2,
              "version_minor": 0,
              "model_id": "859ded0614184c0684966af261a21208"
            }
          },
          "metadata": {}
        }
      ]
    },
    {
      "cell_type": "code",
      "source": [
        "w.close()"
      ],
      "metadata": {
        "id": "KzWAm1bXg6Yb"
      },
      "execution_count": null,
      "outputs": []
    },
    {
      "cell_type": "code",
      "source": [
        "w = widgets.IntSlider()\n",
        "display(w)"
      ],
      "metadata": {
        "colab": {
          "base_uri": "https://localhost:8080/",
          "height": 49,
          "referenced_widgets": [
            "17c6688894fb4804a584f302914126e5",
            "8bc3c2a40f1c43a492103c02da726c29",
            "48e6aa24a23c4588b67d43783eeb469e"
          ]
        },
        "id": "UKRDbONhhFPP",
        "outputId": "b0740382-0281-4996-e9f5-ca395f4d5423"
      },
      "execution_count": null,
      "outputs": [
        {
          "output_type": "display_data",
          "data": {
            "text/plain": [
              "IntSlider(value=0)"
            ],
            "application/vnd.jupyter.widget-view+json": {
              "version_major": 2,
              "version_minor": 0,
              "model_id": "17c6688894fb4804a584f302914126e5"
            }
          },
          "metadata": {}
        }
      ]
    },
    {
      "cell_type": "code",
      "source": [
        "w.value"
      ],
      "metadata": {
        "colab": {
          "base_uri": "https://localhost:8080/",
          "height": 34
        },
        "id": "wrOomC0DhOzd",
        "outputId": "480e7a81-e826-4143-b9dc-77a731003e6f"
      },
      "execution_count": null,
      "outputs": [
        {
          "output_type": "execute_result",
          "data": {
            "text/plain": [
              "67"
            ]
          },
          "metadata": {},
          "execution_count": 13
        }
      ]
    },
    {
      "cell_type": "code",
      "source": [
        "w.value = 30"
      ],
      "metadata": {
        "id": "0d-l4JAhhVLY"
      },
      "execution_count": null,
      "outputs": []
    },
    {
      "cell_type": "code",
      "source": [
        "w.keys"
      ],
      "metadata": {
        "colab": {
          "base_uri": "https://localhost:8080/"
        },
        "id": "9MNa_KIbhZ47",
        "outputId": "2b56a90e-5405-459c-a8f5-9dd78ec7f755"
      },
      "execution_count": null,
      "outputs": [
        {
          "output_type": "execute_result",
          "data": {
            "text/plain": [
              "['_dom_classes',\n",
              " '_model_module',\n",
              " '_model_module_version',\n",
              " '_model_name',\n",
              " '_view_count',\n",
              " '_view_module',\n",
              " '_view_module_version',\n",
              " '_view_name',\n",
              " 'continuous_update',\n",
              " 'description',\n",
              " 'description_tooltip',\n",
              " 'disabled',\n",
              " 'layout',\n",
              " 'max',\n",
              " 'min',\n",
              " 'orientation',\n",
              " 'readout',\n",
              " 'readout_format',\n",
              " 'step',\n",
              " 'style',\n",
              " 'value']"
            ]
          },
          "metadata": {},
          "execution_count": 15
        }
      ]
    },
    {
      "cell_type": "code",
      "source": [
        "widgets.Text(value='Hello World!', disabled=True)"
      ],
      "metadata": {
        "colab": {
          "base_uri": "https://localhost:8080/",
          "height": 49,
          "referenced_widgets": [
            "f336d4c5f606452ea3c78716e57890ed",
            "d833867ef9304021bc79822121b70354",
            "49c28eab1ae14ec8947ef40319e7b558"
          ]
        },
        "id": "UADBCFW_hgnP",
        "outputId": "362fa99b-7811-4674-a953-cc3c2c373443"
      },
      "execution_count": null,
      "outputs": [
        {
          "output_type": "display_data",
          "data": {
            "text/plain": [
              "Text(value='Hello World!', disabled=True)"
            ],
            "application/vnd.jupyter.widget-view+json": {
              "version_major": 2,
              "version_minor": 0,
              "model_id": "f336d4c5f606452ea3c78716e57890ed"
            }
          },
          "metadata": {}
        }
      ]
    },
    {
      "cell_type": "code",
      "source": [
        "a = widgets.FloatText()\n",
        "b = widgets.FloatSlider()\n",
        "display(a,b)\n",
        "\n",
        "mylink = widgets.jslink((a, 'value'), (b, 'value'))"
      ],
      "metadata": {
        "colab": {
          "base_uri": "https://localhost:8080/",
          "height": 79,
          "referenced_widgets": [
            "54c68f033efc4f0fb41de2c4c83d1849",
            "aa6e792dd18049a299c6ea62dfeacebb",
            "4c8d9d036e0b46d9a26b5ad1e44f6974",
            "551bc2cbebaa479897fc6e391c95601a",
            "5c00961783164a99863a5b5adf9d85d6",
            "45234d4a6b52462a9289ec4df0dff410"
          ]
        },
        "id": "WAOa8karhtBl",
        "outputId": "2ff2e2b0-c647-4349-bfbb-137fe3300489"
      },
      "execution_count": null,
      "outputs": [
        {
          "output_type": "display_data",
          "data": {
            "text/plain": [
              "FloatText(value=0.0)"
            ],
            "application/vnd.jupyter.widget-view+json": {
              "version_major": 2,
              "version_minor": 0,
              "model_id": "54c68f033efc4f0fb41de2c4c83d1849"
            }
          },
          "metadata": {}
        },
        {
          "output_type": "display_data",
          "data": {
            "text/plain": [
              "FloatSlider(value=0.0)"
            ],
            "application/vnd.jupyter.widget-view+json": {
              "version_major": 2,
              "version_minor": 0,
              "model_id": "551bc2cbebaa479897fc6e391c95601a"
            }
          },
          "metadata": {}
        }
      ]
    },
    {
      "cell_type": "code",
      "source": [
        "a = \"name\"\n",
        "b = \"tom\"\n",
        "\"hello my %s is %s\" % (a, b)"
      ],
      "metadata": {
        "colab": {
          "base_uri": "https://localhost:8080/",
          "height": 34
        },
        "id": "v-3QxP_Dh5M-",
        "outputId": "bf48f058-2d31-445b-ba50-a2f003c7e859"
      },
      "execution_count": null,
      "outputs": [
        {
          "output_type": "execute_result",
          "data": {
            "text/plain": [
              "'hello my name is tom'"
            ]
          },
          "metadata": {},
          "execution_count": 18
        }
      ]
    },
    {
      "cell_type": "code",
      "source": [
        "a = \"name\"\n",
        "b = \"tom\"\n",
        "\"hello my {} is {}\".format(a, b)"
      ],
      "metadata": {
        "colab": {
          "base_uri": "https://localhost:8080/"
        },
        "id": "qxSeK5GkFa2-",
        "outputId": "5d65002c-2d31-4525-8809-16a03f8572d7"
      },
      "execution_count": null,
      "outputs": [
        {
          "output_type": "execute_result",
          "data": {
            "text/plain": [
              "'hello my name is tom'"
            ]
          },
          "metadata": {},
          "execution_count": 19
        }
      ]
    },
    {
      "cell_type": "code",
      "source": [
        "person =  {\n",
        "            'name': 'Eric', \n",
        "            'age': 74\n",
        "          }\n",
        "\"hello I'm {name} I'm {age}\".format(**person)"
      ],
      "metadata": {
        "colab": {
          "base_uri": "https://localhost:8080/"
        },
        "id": "6_ThnNAeGCEJ",
        "outputId": "11cb06e1-1416-448f-ebd4-51c412eddb76"
      },
      "execution_count": null,
      "outputs": [
        {
          "output_type": "execute_result",
          "data": {
            "text/plain": [
              "\"hello I'm Eric I'm 74\""
            ]
          },
          "metadata": {},
          "execution_count": 23
        }
      ]
    },
    {
      "cell_type": "code",
      "source": [
        "a"
      ],
      "metadata": {
        "colab": {
          "base_uri": "https://localhost:8080/"
        },
        "id": "Y4y-kPpXGqmC",
        "outputId": "fab977e3-f252-4406-f2e1-b19691d13a80"
      },
      "execution_count": null,
      "outputs": [
        {
          "output_type": "execute_result",
          "data": {
            "text/plain": [
              "'name'"
            ]
          },
          "metadata": {},
          "execution_count": 24
        }
      ]
    },
    {
      "cell_type": "code",
      "source": [
        "b"
      ],
      "metadata": {
        "colab": {
          "base_uri": "https://localhost:8080/"
        },
        "id": "xWi4ty_oqWxt",
        "outputId": "c69ef22b-db77-44e4-d198-771b9a0e8cc6"
      },
      "execution_count": null,
      "outputs": [
        {
          "output_type": "execute_result",
          "data": {
            "text/plain": [
              "'tom'"
            ]
          },
          "metadata": {},
          "execution_count": 25
        }
      ]
    },
    {
      "cell_type": "code",
      "source": [
        "a, b"
      ],
      "metadata": {
        "colab": {
          "base_uri": "https://localhost:8080/"
        },
        "id": "P5oF-0sIqXtd",
        "outputId": "84680d4f-f017-4f6f-d217-b7c2bf028e4b"
      },
      "execution_count": null,
      "outputs": [
        {
          "output_type": "execute_result",
          "data": {
            "text/plain": [
              "('name', 'tom')"
            ]
          },
          "metadata": {},
          "execution_count": 26
        }
      ]
    },
    {
      "cell_type": "code",
      "source": [
        "a, b = b, a"
      ],
      "metadata": {
        "id": "SZUg30XgqY5d"
      },
      "execution_count": null,
      "outputs": []
    },
    {
      "cell_type": "code",
      "source": [
        "a"
      ],
      "metadata": {
        "colab": {
          "base_uri": "https://localhost:8080/"
        },
        "id": "6gVU5eAZqgiL",
        "outputId": "8cb5970e-eeb7-4adb-9271-2317a9f1e3ae"
      },
      "execution_count": null,
      "outputs": [
        {
          "output_type": "execute_result",
          "data": {
            "text/plain": [
              "'tom'"
            ]
          },
          "metadata": {},
          "execution_count": 28
        }
      ]
    },
    {
      "cell_type": "code",
      "source": [
        "b"
      ],
      "metadata": {
        "colab": {
          "base_uri": "https://localhost:8080/"
        },
        "id": "JZhRrpISqh7w",
        "outputId": "30dc48c0-1248-46c3-e218-28383b470eba"
      },
      "execution_count": null,
      "outputs": [
        {
          "output_type": "execute_result",
          "data": {
            "text/plain": [
              "'name'"
            ]
          },
          "metadata": {},
          "execution_count": 29
        }
      ]
    },
    {
      "cell_type": "code",
      "source": [
        "def plus(a):\n",
        "  print(a+a)\n",
        "\n",
        "plus(5)"
      ],
      "metadata": {
        "colab": {
          "base_uri": "https://localhost:8080/",
          "height": 34
        },
        "id": "gkOnjkfYqkx1",
        "outputId": "2c377559-e460-4097-9f87-c309fdc80f5e"
      },
      "execution_count": null,
      "outputs": [
        {
          "output_type": "stream",
          "name": "stdout",
          "text": [
            "10\n"
          ]
        }
      ]
    },
    {
      "cell_type": "code",
      "source": [
        "def deco(func):\n",
        "\n",
        "  def mod(a):\n",
        "    if a > 10:\n",
        "      a = a * 10\n",
        "    return func(a)\n",
        "\n",
        "  return mod\n",
        "\n",
        "f = deco(plus)\n",
        "f"
      ],
      "metadata": {
        "colab": {
          "base_uri": "https://localhost:8080/",
          "height": 34
        },
        "id": "M93iY5VJsVjt",
        "outputId": "a4aea8f4-d938-474a-cf78-1912bd1cbf74"
      },
      "execution_count": null,
      "outputs": [
        {
          "output_type": "execute_result",
          "data": {
            "text/plain": [
              "<function __main__.deco.<locals>.mod(a)>"
            ]
          },
          "metadata": {},
          "execution_count": 40
        }
      ]
    },
    {
      "cell_type": "code",
      "source": [
        "f(5)"
      ],
      "metadata": {
        "colab": {
          "base_uri": "https://localhost:8080/"
        },
        "id": "6dHxyr6Ntffp",
        "outputId": "582d9136-ce1d-4028-d8b2-f3f0294da70a"
      },
      "execution_count": null,
      "outputs": [
        {
          "output_type": "stream",
          "name": "stdout",
          "text": [
            "10\n"
          ]
        }
      ]
    },
    {
      "cell_type": "code",
      "source": [
        "f(15)"
      ],
      "metadata": {
        "colab": {
          "base_uri": "https://localhost:8080/"
        },
        "id": "zk_Lvo8EtjPV",
        "outputId": "652cfb42-d54f-4839-a234-dfaf9e2c77f9"
      },
      "execution_count": null,
      "outputs": [
        {
          "output_type": "stream",
          "name": "stdout",
          "text": [
            "300\n"
          ]
        }
      ]
    },
    {
      "cell_type": "code",
      "source": [
        ""
      ],
      "metadata": {
        "id": "C_SqXW8V4Q4R"
      },
      "execution_count": null,
      "outputs": []
    },
    {
      "cell_type": "code",
      "source": [
        ""
      ],
      "metadata": {
        "id": "xzy3zSl2xD0U"
      },
      "execution_count": null,
      "outputs": []
    },
    {
      "cell_type": "code",
      "source": [
        ""
      ],
      "metadata": {
        "id": "dU2QzDYHxKcD"
      },
      "execution_count": null,
      "outputs": []
    }
  ]
}